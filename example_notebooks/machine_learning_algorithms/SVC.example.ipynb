{
 "cells": [
  {
   "cell_type": "markdown",
   "metadata": {},
   "source": [
    "# Support Vector Classifier example"
   ]
  },
  {
   "cell_type": "code",
   "execution_count": 1,
   "metadata": {},
   "outputs": [
    {
     "name": "stderr",
     "output_type": "stream",
     "text": [
      "C:\\Users\\Karim\\AppData\\Roaming\\Python\\Python311\\site-packages\\IPython\\core\\magics\\osm.py:417: UserWarning: using dhist requires you to install the `pickleshare` library.\n",
      "  self.shell.db['dhist'] = compress_dhist(dhist)[-100:]\n"
     ]
    },
    {
     "name": "stdout",
     "output_type": "stream",
     "text": [
      "e:\\KTorch\n"
     ]
    }
   ],
   "source": [
    "# imports\n",
    "%cd ../..\n",
    "from algorithms.svm.SVC import SVC\n",
    "from sklearn.svm import SVC as SVC_sklearn\n",
    "from sklearn.datasets import make_blobs, make_circles, load_iris\n",
    "from sklearn.model_selection import train_test_split\n",
    "from sklearn.metrics import accuracy_score\n",
    "from sklearn.preprocessing import StandardScaler"
   ]
  },
  {
   "cell_type": "code",
   "execution_count": 2,
   "metadata": {},
   "outputs": [],
   "source": [
    "# Generate dataset\n",
    "X, y = make_blobs(n_samples=100, centers=2, random_state=6)\n",
    "\n",
    "# Split the dataset into training and testing sets\n",
    "X_train, X_test, y_train, y_test = train_test_split(X, y, test_size=0.2, random_state=42)\n",
    "y_train[y_train == 0] = -1\n",
    "y_test[y_test == 0] = -1"
   ]
  },
  {
   "cell_type": "code",
   "execution_count": 3,
   "metadata": {},
   "outputs": [
    {
     "name": "stdout",
     "output_type": "stream",
     "text": [
      "     pcost       dcost       gap    pres   dres\n",
      " 0: -6.6409e+00 -1.4855e+02  8e+02  3e+00  6e-14\n",
      " 1: -3.3326e+00 -7.4933e+01  1e+02  3e-01  5e-14\n",
      " 2: -3.2090e-01 -1.0279e+01  2e+01  3e-02  4e-14\n",
      " 3:  8.1109e-02 -6.6559e-01  8e-01  2e-04  9e-15\n",
      " 4: -1.0576e-01 -2.4335e-01  1e-01  2e-05  2e-15\n",
      " 5: -1.6922e-01 -2.3640e-01  7e-02  6e-06  4e-15\n",
      " 6: -1.9539e-01 -2.1911e-01  2e-02  1e-06  4e-15\n",
      " 7: -2.0546e-01 -2.0589e-01  4e-04  2e-08  4e-15\n",
      " 8: -2.0566e-01 -2.0566e-01  4e-06  2e-10  4e-15\n",
      " 9: -2.0566e-01 -2.0566e-01  4e-08  2e-12  5e-15\n",
      "Optimal solution found.\n",
      "Number of support vectors: 3\n",
      "Model trained successfully\n",
      "My model accuracy:  1.0\n"
     ]
    },
    {
     "data": {
      "text/plain": [
       "1.0"
      ]
     },
     "execution_count": 3,
     "metadata": {},
     "output_type": "execute_result"
    }
   ],
   "source": [
    "# Fit my model\n",
    "model = SVC()\n",
    "model.fit(X_train, y_train)\n",
    "y_pred_my = model.predict(X_test)\n",
    "print(\"My model accuracy: \", accuracy_score(y_test, y_pred_my))\n",
    "model.score(X_test, y_test)"
   ]
  },
  {
   "cell_type": "code",
   "execution_count": 4,
   "metadata": {},
   "outputs": [
    {
     "name": "stdout",
     "output_type": "stream",
     "text": [
      "Sklearn model accuracy:  1.0\n"
     ]
    },
    {
     "data": {
      "text/plain": [
       "1.0"
      ]
     },
     "execution_count": 4,
     "metadata": {},
     "output_type": "execute_result"
    }
   ],
   "source": [
    "# Fit sklearn model\n",
    "model_sklearn = SVC_sklearn()\n",
    "model_sklearn.fit(X_train, y_train)\n",
    "y_pred_sklearn = model_sklearn.predict(X_test)\n",
    "print(\"Sklearn model accuracy: \", accuracy_score(y_test, y_pred_sklearn))\n",
    "model_sklearn.score(X_test, y_test)"
   ]
  },
  {
   "cell_type": "markdown",
   "metadata": {},
   "source": [
    "### RBF Kernel"
   ]
  },
  {
   "cell_type": "code",
   "execution_count": 5,
   "metadata": {},
   "outputs": [],
   "source": [
    "# Generate a non-linear dataset\n",
    "X, y = make_circles(n_samples=100, factor=0.1, noise=0.1, random_state=42)\n",
    "\n",
    "# Split the dataset into training and testing sets\n",
    "X_train, X_test, y_train, y_test = train_test_split(X, y, test_size=0.3, random_state=42)\n",
    "y_train[y_train == 0] = -1\n",
    "y_test[y_test == 0] = -1"
   ]
  },
  {
   "cell_type": "code",
   "execution_count": 6,
   "metadata": {},
   "outputs": [
    {
     "name": "stdout",
     "output_type": "stream",
     "text": [
      "     pcost       dcost       gap    pres   dres\n",
      " 0: -9.7311e+00 -1.0936e+02  3e+02  1e+00  9e-16\n",
      " 1: -8.8261e+00 -5.4152e+01  5e+01  3e-16  8e-16\n",
      " 2: -1.0738e+01 -1.8996e+01  8e+00  3e-16  7e-16\n",
      " 3: -1.2041e+01 -1.5142e+01  3e+00  2e-16  6e-16\n",
      " 4: -1.2724e+01 -1.3788e+01  1e+00  1e-16  8e-16\n",
      " 5: -1.2983e+01 -1.3357e+01  4e-01  2e-16  7e-16\n",
      " 6: -1.3112e+01 -1.3164e+01  5e-02  2e-16  9e-16\n",
      " 7: -1.3132e+01 -1.3137e+01  5e-03  5e-16  1e-15\n",
      " 8: -1.3134e+01 -1.3134e+01  9e-05  6e-16  9e-16\n",
      " 9: -1.3134e+01 -1.3134e+01  9e-07  7e-16  1e-15\n",
      "Optimal solution found.\n",
      "Number of support vectors: 26\n",
      "Model trained successfully\n",
      "My model accuracy:  1.0\n"
     ]
    },
    {
     "data": {
      "text/plain": [
       "1.0"
      ]
     },
     "execution_count": 6,
     "metadata": {},
     "output_type": "execute_result"
    }
   ],
   "source": [
    "# Fit my model\n",
    "model = SVC(kernel='rbf', gamma='auto', C=1)\n",
    "model.fit(X_train, y_train)\n",
    "y_pred_my = model.predict(X_test)\n",
    "print(\"My model accuracy: \", accuracy_score(y_test, y_pred_my))\n",
    "model.score(X_test, y_test)"
   ]
  },
  {
   "cell_type": "code",
   "execution_count": 7,
   "metadata": {},
   "outputs": [
    {
     "name": "stdout",
     "output_type": "stream",
     "text": [
      "Sklearn model accuracy:  1.0\n"
     ]
    },
    {
     "data": {
      "text/plain": [
       "1.0"
      ]
     },
     "execution_count": 7,
     "metadata": {},
     "output_type": "execute_result"
    }
   ],
   "source": [
    "# Fit sklearn model\n",
    "model_sklearn = SVC_sklearn(kernel='rbf', gamma='auto', C=1)\n",
    "model_sklearn.fit(X_train, y_train)\n",
    "y_pred_sklearn = model_sklearn.predict(X_test)\n",
    "print(\"Sklearn model accuracy: \", accuracy_score(y_test, y_pred_sklearn))\n",
    "model_sklearn.score(X_test, y_test)"
   ]
  },
  {
   "cell_type": "markdown",
   "metadata": {},
   "source": [
    "### Sigmoid kernel on iris dataset"
   ]
  },
  {
   "cell_type": "code",
   "execution_count": 8,
   "metadata": {},
   "outputs": [],
   "source": [
    "# Load the Iris dataset\n",
    "iris = load_iris()\n",
    "X = iris.data\n",
    "y = iris.target\n",
    "X = X[y != 2]\n",
    "y = y[y != 2]\n",
    "X_train, X_test, y_train, y_test = train_test_split(X, y, test_size=0.3, random_state=42)\n",
    "\n",
    "# Feature scaling for better performance of the SVM\n",
    "scaler = StandardScaler()\n",
    "X_train = scaler.fit_transform(X_train)\n",
    "X_test = scaler.transform(X_test)\n",
    "\n",
    "y_train[y_train == 0] = -1\n",
    "y_test[y_test == 0] = -1"
   ]
  },
  {
   "cell_type": "code",
   "execution_count": 9,
   "metadata": {},
   "outputs": [
    {
     "data": {
      "text/plain": [
       "array([-1,  1])"
      ]
     },
     "execution_count": 9,
     "metadata": {},
     "output_type": "execute_result"
    }
   ],
   "source": [
    "import numpy as np\n",
    "np.unique(y_train)"
   ]
  },
  {
   "cell_type": "code",
   "execution_count": 10,
   "metadata": {},
   "outputs": [
    {
     "name": "stdout",
     "output_type": "stream",
     "text": [
      "     pcost       dcost       gap    pres   dres\n",
      " 0: -5.9242e+00 -1.2796e+02  7e+02  2e+00  5e-16\n",
      " 1: -3.5532e+00 -7.6738e+01  2e+02  5e-01  7e-16\n",
      " 2:  3.7383e-01 -2.0630e+01  3e+01  7e-02  6e-15\n",
      " 3: -1.2260e+00 -6.9256e+00  7e+00  1e-02  4e-15\n",
      " 4: -2.0464e+00 -3.4877e+00  1e+00  6e-04  8e-16\n",
      " 5: -2.1519e+00 -3.5666e+00  1e+00  5e-04  8e-16\n",
      " 6: -2.5205e+00 -3.2688e+00  8e-01  2e-04  5e-16\n",
      " 7: -2.5788e+00 -3.1750e+00  6e-01  1e-04  4e-16\n",
      " 8: -2.7265e+00 -3.0238e+00  3e-01  7e-16  3e-16\n",
      " 9: -2.8026e+00 -2.9110e+00  1e-01  2e-16  4e-16\n",
      "10: -2.8556e+00 -2.8576e+00  2e-03  2e-16  4e-16\n",
      "11: -2.8566e+00 -2.8566e+00  2e-05  2e-16  4e-16\n",
      "12: -2.8566e+00 -2.8566e+00  2e-07  2e-16  5e-16\n",
      "Optimal solution found.\n",
      "Number of support vectors: 6\n",
      "Model trained successfully\n",
      "My model accuracy:  1.0\n"
     ]
    },
    {
     "data": {
      "text/plain": [
       "1.0"
      ]
     },
     "execution_count": 10,
     "metadata": {},
     "output_type": "execute_result"
    }
   ],
   "source": [
    "# Fit my model\n",
    "model = SVC(kernel='sigmoid', gamma='auto', C=1)\n",
    "model.fit(X_train, y_train)\n",
    "y_pred_my = model.predict(X_test)\n",
    "print(\"My model accuracy: \", accuracy_score(y_test, y_pred_my))\n",
    "model.score(X_test, y_test)"
   ]
  },
  {
   "cell_type": "code",
   "execution_count": 11,
   "metadata": {},
   "outputs": [
    {
     "name": "stdout",
     "output_type": "stream",
     "text": [
      "Sklearn model accuracy:  1.0\n"
     ]
    },
    {
     "data": {
      "text/plain": [
       "1.0"
      ]
     },
     "execution_count": 11,
     "metadata": {},
     "output_type": "execute_result"
    }
   ],
   "source": [
    "# Fit sklearn model\n",
    "model_sklearn = SVC_sklearn(kernel='rbf', gamma='auto', C=1)\n",
    "model_sklearn.fit(X_train, y_train)\n",
    "y_pred_sklearn = model_sklearn.predict(X_test)\n",
    "print(\"Sklearn model accuracy: \", accuracy_score(y_test, y_pred_sklearn))\n",
    "model_sklearn.score(X_test, y_test)"
   ]
  },
  {
   "cell_type": "code",
   "execution_count": null,
   "metadata": {},
   "outputs": [],
   "source": []
  }
 ],
 "metadata": {
  "kernelspec": {
   "display_name": "Python 3",
   "language": "python",
   "name": "python3"
  },
  "language_info": {
   "codemirror_mode": {
    "name": "ipython",
    "version": 3
   },
   "file_extension": ".py",
   "mimetype": "text/x-python",
   "name": "python",
   "nbconvert_exporter": "python",
   "pygments_lexer": "ipython3",
   "version": "3.11.5"
  }
 },
 "nbformat": 4,
 "nbformat_minor": 2
}
