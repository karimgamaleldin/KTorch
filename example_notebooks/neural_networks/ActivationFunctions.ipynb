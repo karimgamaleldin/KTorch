{
 "cells": [
  {
   "cell_type": "markdown",
   "metadata": {},
   "source": [
    "# Activation Functions notebooks\n",
    "A notebook to test the implementation of the activation functions"
   ]
  },
  {
   "cell_type": "code",
   "execution_count": 1,
   "metadata": {},
   "outputs": [
    {
     "name": "stdout",
     "output_type": "stream",
     "text": [
      "e:\\KTorch\n"
     ]
    },
    {
     "name": "stderr",
     "output_type": "stream",
     "text": [
      "C:\\Users\\Karim\\AppData\\Roaming\\Python\\Python311\\site-packages\\IPython\\core\\magics\\osm.py:417: UserWarning: using dhist requires you to install the `pickleshare` library.\n",
      "  self.shell.db['dhist'] = compress_dhist(dhist)[-100:]\n"
     ]
    }
   ],
   "source": [
    "%cd ../.."
   ]
  },
  {
   "cell_type": "code",
   "execution_count": 2,
   "metadata": {},
   "outputs": [],
   "source": [
    "# Importing the required libraries\n",
    "from nn import GELU, ReLU, Sigmoid, Tanh\n",
    "from torch.nn import GELU as GELU_torch, ReLU as ReLU_torch, Sigmoid as Sigmoid_torch, Tanh as Tanh_torch\n",
    "import numpy as np"
   ]
  },
  {
   "cell_type": "code",
   "execution_count": 3,
   "metadata": {},
   "outputs": [],
   "source": [
    "# Defining the input\n",
    "x = np.random.randn(1, 1, 3, 3)\n",
    "x = x.astype(np.float32)"
   ]
  },
  {
   "cell_type": "code",
   "execution_count": 7,
   "metadata": {},
   "outputs": [
    {
     "name": "stdout",
     "output_type": "stream",
     "text": [
      "GELU difference:  True\n",
      "ReLU difference:  True\n",
      "Sigmoid difference:  True\n",
      "Tanh difference:  True\n"
     ]
    }
   ],
   "source": [
    "import torch\n",
    "from autograd.engine import Tensor\n",
    "# Defining the activation functions\n",
    "my_gelu, torch_gelu = GELU(), GELU_torch()\n",
    "my_relu, torch_relu = ReLU(), ReLU_torch()\n",
    "my_sigmoid, torch_sigmoid = Sigmoid(), Sigmoid_torch()\n",
    "my_tanh, torch_tanh = Tanh(), Tanh_torch()\n",
    "\n",
    "# Getting the output\n",
    "my_gelu_y = my_gelu.forward(Tensor(x))\n",
    "torch_gelu_y = torch_gelu.forward(torch.tensor(x))\n",
    "my_relu_y = my_relu.forward(Tensor(x))\n",
    "torch_relu_y = torch_relu.forward(torch.tensor(x))\n",
    "my_sigmoid_y = my_sigmoid.forward(Tensor(x))\n",
    "torch_sigmoid_y = torch_sigmoid.forward(torch.tensor(x))\n",
    "my_tanh_y = my_tanh.forward(Tensor(x))\n",
    "torch_tanh_y = torch_tanh.forward(torch.tensor(x))\n",
    "\n",
    "# Checking the difference\n",
    "print(\"GELU difference: \", np.isclose(my_gelu_y.data, torch_gelu_y.cpu().detach().numpy(), atol=1e-8).all())\n",
    "print(\"ReLU difference: \", np.isclose(my_relu_y.data, torch_relu_y.cpu().detach().numpy(), atol=1e-8).all())\n",
    "print(\"Sigmoid difference: \", np.isclose(my_sigmoid_y.data, torch_sigmoid_y.cpu().detach().numpy(), atol=1e-8).all())\n",
    "print(\"Tanh difference: \", np.isclose(my_tanh_y.data, torch_tanh_y.cpu().detach().numpy(), atol=1e-8).all())"
   ]
  },
  {
   "cell_type": "code",
   "execution_count": 16,
   "metadata": {},
   "outputs": [
    {
     "name": "stdout",
     "output_type": "stream",
     "text": [
      "torch.float32\n"
     ]
    },
    {
     "data": {
      "text/plain": [
       "(None, dtype('float64'))"
      ]
     },
     "execution_count": 16,
     "metadata": {},
     "output_type": "execute_result"
    }
   ],
   "source": [
    "print(torch_gelu_y.dtype), my_gelu_y.data.dtype"
   ]
  },
  {
   "cell_type": "code",
   "execution_count": null,
   "metadata": {},
   "outputs": [],
   "source": []
  }
 ],
 "metadata": {
  "kernelspec": {
   "display_name": "Python 3",
   "language": "python",
   "name": "python3"
  },
  "language_info": {
   "codemirror_mode": {
    "name": "ipython",
    "version": 3
   },
   "file_extension": ".py",
   "mimetype": "text/x-python",
   "name": "python",
   "nbconvert_exporter": "python",
   "pygments_lexer": "ipython3",
   "version": "3.11.5"
  }
 },
 "nbformat": 4,
 "nbformat_minor": 2
}
