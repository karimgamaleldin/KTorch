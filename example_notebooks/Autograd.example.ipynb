{
 "cells": [
  {
   "cell_type": "markdown",
   "metadata": {},
   "source": [
    "# Autograd\n",
    "This notebook is to test my autograd engine. This notebooks is inspired by [Andrej Karpathy](https://www.youtube.com/watch?v=q8SA3rM6ckI&list=PLAqhIrjkxbuWI23v9cThsA9GvCAUhRvKZ&index=5)"
   ]
  },
  {
   "cell_type": "code",
   "execution_count": 1,
   "metadata": {},
   "outputs": [
    {
     "name": "stdout",
     "output_type": "stream",
     "text": [
      "e:\\KTorch\n"
     ]
    },
    {
     "name": "stderr",
     "output_type": "stream",
     "text": [
      "C:\\Users\\Karim\\AppData\\Roaming\\Python\\Python311\\site-packages\\IPython\\core\\magics\\osm.py:417: UserWarning: using dhist requires you to install the `pickleshare` library.\n",
      "  self.shell.db['dhist'] = compress_dhist(dhist)[-100:]\n"
     ]
    }
   ],
   "source": [
    "%cd .."
   ]
  },
  {
   "cell_type": "code",
   "execution_count": 2,
   "metadata": {},
   "outputs": [],
   "source": [
    "# Imports \n",
    "import torch\n",
    "import torch.nn.functional as F\n",
    "from autograd.engine import Tensor\n",
    "import numpy as np"
   ]
  },
  {
   "cell_type": "code",
   "execution_count": 3,
   "metadata": {},
   "outputs": [],
   "source": [
    "# !curl -O https://raw.githubusercontent.com/karpathy/makemore/master/names.txt"
   ]
  },
  {
   "cell_type": "code",
   "execution_count": 4,
   "metadata": {},
   "outputs": [
    {
     "name": "stdout",
     "output_type": "stream",
     "text": [
      "32033\n",
      "15\n",
      "['emma', 'olivia', 'ava', 'isabella', 'sophia', 'charlotte', 'mia', 'amelia']\n",
      "{1: 'a', 2: 'b', 3: 'c', 4: 'd', 5: 'e', 6: 'f', 7: 'g', 8: 'h', 9: 'i', 10: 'j', 11: 'k', 12: 'l', 13: 'm', 14: 'n', 15: 'o', 16: 'p', 17: 'q', 18: 'r', 19: 's', 20: 't', 21: 'u', 22: 'v', 23: 'w', 24: 'x', 25: 'y', 26: 'z', 0: '.'}\n",
      "27\n",
      "torch.Size([182625, 3]) torch.Size([182625])\n",
      "torch.Size([22655, 3]) torch.Size([22655])\n",
      "torch.Size([22866, 3]) torch.Size([22866])\n"
     ]
    }
   ],
   "source": [
    "#### Boilerplate code from Andrej Karpathy\n",
    "# read in all the words\n",
    "words = open('names.txt', 'r').read().splitlines()\n",
    "print(len(words))\n",
    "print(max(len(w) for w in words))\n",
    "print(words[:8])\n",
    "\n",
    "# build the vocabulary of characters and mappings to/from integers\n",
    "chars = sorted(list(set(''.join(words))))\n",
    "stoi = {s:i+1 for i,s in enumerate(chars)}\n",
    "stoi['.'] = 0\n",
    "itos = {i:s for s,i in stoi.items()}\n",
    "vocab_size = len(itos)\n",
    "print(itos)\n",
    "print(vocab_size)\n",
    "\n",
    "# build the dataset\n",
    "block_size = 3 # context length: how many characters do we take to predict the next one?\n",
    "\n",
    "def build_dataset(words):  \n",
    "  X, Y = [], []\n",
    "  \n",
    "  for w in words:\n",
    "    context = [0] * block_size\n",
    "    for ch in w + '.':\n",
    "      ix = stoi[ch]\n",
    "      X.append(context)\n",
    "      Y.append(ix)\n",
    "      context = context[1:] + [ix] # crop and append\n",
    "\n",
    "  X = torch.tensor(X)\n",
    "  Y = torch.tensor(Y)\n",
    "  print(X.shape, Y.shape)\n",
    "  return X, Y\n",
    "\n",
    "import random\n",
    "random.seed(42)\n",
    "random.shuffle(words)\n",
    "n1 = int(0.8*len(words))\n",
    "n2 = int(0.9*len(words))\n",
    "\n",
    "Xtr,  Ytr  = build_dataset(words[:n1])     # 80%\n",
    "Xdev, Ydev = build_dataset(words[n1:n2])   # 10%\n",
    "Xte,  Yte  = build_dataset(words[n2:])     # 10%\n",
    "\n",
    "# utility function we will use later when comparing manual gradients to PyTorch gradients\n",
    "def cmp(s, dt, t):\n",
    "  ex = torch.all(dt == t.grad).item()\n",
    "  app = torch.allclose(dt, t.grad)\n",
    "  maxdiff = (dt - t.grad).abs().max().item()\n",
    "  print(f'{s:15s} | exact: {str(ex):5s} | approximate: {str(app):5s} | maxdiff: {maxdiff}')"
   ]
  },
  {
   "cell_type": "code",
   "execution_count": 5,
   "metadata": {},
   "outputs": [
    {
     "data": {
      "text/plain": [
       "((27, 10), (30, 64), (64,), (64, 27), (27,), (1, 64), (1, 64))"
      ]
     },
     "execution_count": 5,
     "metadata": {},
     "output_type": "execute_result"
    }
   ],
   "source": [
    "# Creating the values\n",
    "np.random.seed(0)\n",
    "vocab_size, n_embd, block_size, n_hidden, batch_size = 27, 10, 3, 64, 32\n",
    "n = batch_size # for convenience\n",
    "C = np.random.rand(vocab_size, n_embd)\n",
    "\n",
    "# Layer 1\n",
    "W1 = np.random.rand((n_embd * block_size), n_hidden)\n",
    "b1 = np.random.rand(n_hidden)\n",
    "\n",
    "# Layer 2\n",
    "W2 = np.random.rand(n_hidden, vocab_size)\n",
    "b2 = np.random.rand(vocab_size)\n",
    "\n",
    "# Batchnorm\n",
    "bngain = np.random.rand(1, n_hidden)*0.1 + 1.0\n",
    "bnbias = np.random.rand(1, n_hidden)*0.1\n",
    "C.shape, W1.shape, b1.shape, W2.shape, b2.shape, bngain.shape, bnbias.shape"
   ]
  },
  {
   "cell_type": "code",
   "execution_count": 6,
   "metadata": {},
   "outputs": [
    {
     "name": "stdout",
     "output_type": "stream",
     "text": [
      "True\n",
      "True\n",
      "True\n",
      "True\n",
      "True\n",
      "True\n",
      "True\n"
     ]
    }
   ],
   "source": [
    "# Creating the my tensors\n",
    "C_k = Tensor(C)\n",
    "W1_k = Tensor(W1)\n",
    "b1_k = Tensor(b1)\n",
    "W2_k = Tensor(W2)\n",
    "b2_k = Tensor(b2)\n",
    "bngain_k = Tensor(bngain)\n",
    "bnbias_k = Tensor(bnbias)\n",
    "parameters_k = [C_k, W1_k, b1_k, W2_k, b2_k, bngain_k, bnbias_k]\n",
    "\n",
    "# Creating the pytorch tensors\n",
    "C_t = torch.tensor(C, requires_grad=True, dtype=torch.float32)\n",
    "W1_t = torch.tensor(W1, requires_grad=True, dtype=torch.float32)\n",
    "b1_t = torch.tensor(b1, requires_grad=True, dtype=torch.float32)\n",
    "W2_t = torch.tensor(W2, requires_grad=True, dtype=torch.float32)\n",
    "b2_t = torch.tensor(b2, requires_grad=True, dtype=torch.float32)\n",
    "bngain_t = torch.tensor(bngain, requires_grad=True, dtype=torch.float32)\n",
    "bnbias_t = torch.tensor(bnbias, requires_grad=True, dtype=torch.float32)\n",
    "parameters_t = [C_t, W1_t, b1_t, W2_t, b2_t, bngain_t, bnbias_t]\n",
    "\n",
    "# Checking the shapes\n",
    "print(C_k.shape == C_t.shape)\n",
    "print(W1_k.shape == W1_t.shape)\n",
    "print(b1_k.shape == b1_t.shape)\n",
    "print(W2_k.shape == W2_t.shape)\n",
    "print(b2_k.shape == b2_t.shape)\n",
    "print(bngain_k.shape == bngain_t.shape)\n",
    "print(bnbias_k.shape == bnbias_t.shape)"
   ]
  },
  {
   "cell_type": "code",
   "execution_count": 7,
   "metadata": {},
   "outputs": [],
   "source": [
    "# Get input\n",
    "np.random.seed(0)\n",
    "ix = np.random.randint(0, len(Xtr), batch_size)\n",
    "Xb, Yb = Xtr[ix], Ytr[ix] # batch X,Y"
   ]
  },
  {
   "cell_type": "code",
   "execution_count": 8,
   "metadata": {},
   "outputs": [
    {
     "data": {
      "text/plain": [
       "tensor(4.4975, grad_fn=<NegBackward0>)"
      ]
     },
     "execution_count": 8,
     "metadata": {},
     "output_type": "execute_result"
    }
   ],
   "source": [
    "# Forward pass for pytroch\n",
    "emb_t = C_t[Xb]\n",
    "embcat_t = emb_t.view(emb_t.shape[0], -1)\n",
    "\n",
    "# Linear layer 1\n",
    "hprebn_t = embcat_t @ W1_t + b1_t\n",
    "\n",
    "# Batchnorm\n",
    "bnmeani_t = 1/n * hprebn_t.sum(dim=0, keepdim=True)\n",
    "bndiff_t = hprebn_t - bnmeani_t\n",
    "bndiff2_t = bndiff_t**2\n",
    "bnvar_t = 1/(n-1) * bndiff2_t.sum(dim=0, keepdim=True)\n",
    "bnvar_inv_t = (bnvar_t + 1e-5)**-0.5\n",
    "\n",
    "bnraw_t = bndiff_t * bnvar_inv_t\n",
    "hpreact_t = bngain_t * bnraw_t + bnbias_t\n",
    "# Non-linearity\n",
    "h_t = torch.tanh(hpreact_t) # hidden layer\n",
    "# Linear layer 2\n",
    "logits_t = h_t @ W2_t + b2_t # output layer\n",
    "# cross entropy loss (same as F.cross_entropy(logits, Yb))\n",
    "logit_maxes_t = logits_t.max(1, keepdim=True).values\n",
    "norm_logits_t = logits_t - logit_maxes_t # subtract max for numerical stability\n",
    "counts_t = norm_logits_t.exp()\n",
    "counts_sum_t = counts_t.sum(1, keepdims=True)\n",
    "counts_sum_inv_t = counts_sum_t**-1 # if I use (1.0 / counts_sum) instead then I can't get backprop to be bit exact...\n",
    "probs_t = counts_t * counts_sum_inv_t\n",
    "logprobs_t = probs_t.log()\n",
    "loss_t = -logprobs_t[range(n), Yb].mean()\n",
    "\n",
    "# PyTorch backward pass\n",
    "for p in parameters_t:\n",
    "  p.grad = None\n",
    "for t in [logprobs_t, probs_t, counts_t, counts_sum_t, counts_sum_inv_t, norm_logits_t, logit_maxes_t, logits_t, h_t, hpreact_t, bnraw_t,\n",
    "          bnvar_inv_t, bnvar_t, bndiff2_t, bndiff_t, hprebn_t, bnmeani_t,\n",
    "          embcat_t, emb_t]:\n",
    "  t.retain_grad()\n",
    "loss_t.backward()\n",
    "loss_t"
   ]
  },
  {
   "cell_type": "code",
   "execution_count": 9,
   "metadata": {},
   "outputs": [
    {
     "data": {
      "text/plain": [
       "tensor: 4.497500419616699"
      ]
     },
     "execution_count": 9,
     "metadata": {},
     "output_type": "execute_result"
    }
   ],
   "source": [
    "# forward pass for my tensors\n",
    "emb_k = C_k[Xb]\n",
    "embcat_k = emb_k.view(emb_k.shape[0], -1)\n",
    "# Linear layer 1\n",
    "\n",
    "hprebn_k = embcat_k @ W1_k + b1_k\n",
    "\n",
    "# Batchnorm\n",
    "bnmeani_k = 1/n * hprebn_k.sum(axis=0, keepdims=True)\n",
    "bndiff_k = hprebn_k - bnmeani_k\n",
    "bndiff2_k = bndiff_k**2\n",
    "bnvar_k = 1/(n-1) * bndiff2_k.sum(axis=0, keepdims=True)\n",
    "bnvar_inv_k = (bnvar_k + 1e-5)**-0.5\n",
    "bnraw_k = bndiff_k * bnvar_inv_k\n",
    "hpreact_k = bngain_k * bnraw_k + bnbias_k\n",
    "# Non-linearity\n",
    "h_k = hpreact_k.tanh() # hidden layer\n",
    "\n",
    "# Linear layer 2\n",
    "logits_k = h_k @ W2_k + b2_k # output layer\n",
    "# cross entropy loss (same as F.cross_entropy(logits, Yb))\n",
    "logit_maxes_k = logits_k.max(axis=1, keepdims=True).data\n",
    "norm_logits_k = logits_k - logit_maxes_k # subtract max for numerical stability\n",
    "counts_k = norm_logits_k.exp()\n",
    "counts_sum_k = counts_k.sum(axis=1, keepdims=True)\n",
    "counts_sum_inv_k = counts_sum_k**-1 # if I use (1.0 / counts_sum) instead then I can't get backprop to be bit exact...\n",
    "probs_k = counts_k * counts_sum_inv_k\n",
    "logprobs_k = probs_k.log()\n",
    "loss_k = -logprobs_k[range(n), Yb].mean()\n",
    "\n",
    "# My backward pass\n",
    "for p in parameters_k:\n",
    "  p.zero_grad()\n",
    "\n",
    "loss_k.backward()\n",
    "loss_k\n"
   ]
  },
  {
   "cell_type": "code",
   "execution_count": 10,
   "metadata": {},
   "outputs": [
    {
     "name": "stderr",
     "output_type": "stream",
     "text": [
      "C:\\Users\\Karim\\AppData\\Local\\Temp\\ipykernel_15564\\579432579.py:1: UserWarning: The .grad attribute of a Tensor that is not a leaf Tensor is being accessed. Its .grad attribute won't be populated during autograd.backward(). If you indeed want the .grad field to be populated for a non-leaf Tensor, use .retain_grad() on the non-leaf Tensor. If you access the non-leaf Tensor by mistake, make sure you access the leaf Tensor instead. See github.com/pytorch/pytorch/pull/30531 for more informations. (Triggered internally at aten\\src\\ATen/core/TensorBody.h:494.)\n",
      "  loss_k.grad, loss_t.grad\n"
     ]
    },
    {
     "data": {
      "text/plain": [
       "(array(1., dtype=float32), None)"
      ]
     },
     "execution_count": 10,
     "metadata": {},
     "output_type": "execute_result"
    }
   ],
   "source": [
    "loss_k.grad, loss_t.grad\n",
    " "
   ]
  },
  {
   "cell_type": "code",
   "execution_count": 11,
   "metadata": {},
   "outputs": [
    {
     "data": {
      "text/plain": [
       "True"
      ]
     },
     "execution_count": 11,
     "metadata": {},
     "output_type": "execute_result"
    }
   ],
   "source": [
    "(logprobs_k.grad == logprobs_t.grad.detach().numpy()).all()"
   ]
  },
  {
   "cell_type": "code",
   "execution_count": 12,
   "metadata": {},
   "outputs": [
    {
     "data": {
      "text/plain": [
       "True"
      ]
     },
     "execution_count": 12,
     "metadata": {},
     "output_type": "execute_result"
    }
   ],
   "source": [
    "np.all(np.isclose(probs_k.grad, probs_t.grad.detach().numpy()))"
   ]
  },
  {
   "cell_type": "code",
   "execution_count": 13,
   "metadata": {},
   "outputs": [
    {
     "data": {
      "text/plain": [
       "True"
      ]
     },
     "execution_count": 13,
     "metadata": {},
     "output_type": "execute_result"
    }
   ],
   "source": [
    "np.all(np.isclose(counts_sum_inv_k.grad, counts_sum_inv_t.grad.detach().numpy()))"
   ]
  },
  {
   "cell_type": "code",
   "execution_count": 14,
   "metadata": {},
   "outputs": [
    {
     "data": {
      "text/plain": [
       "True"
      ]
     },
     "execution_count": 14,
     "metadata": {},
     "output_type": "execute_result"
    }
   ],
   "source": [
    "np.all(np.isclose(counts_k.grad, counts_t.grad.detach().numpy(), atol=1e-5))"
   ]
  },
  {
   "cell_type": "code",
   "execution_count": 15,
   "metadata": {},
   "outputs": [
    {
     "data": {
      "text/plain": [
       "True"
      ]
     },
     "execution_count": 15,
     "metadata": {},
     "output_type": "execute_result"
    }
   ],
   "source": [
    "np.all(np.isclose(norm_logits_k.grad, norm_logits_t.grad.detach().numpy(), atol=1e-5))"
   ]
  },
  {
   "cell_type": "code",
   "execution_count": 16,
   "metadata": {},
   "outputs": [
    {
     "data": {
      "text/plain": [
       "True"
      ]
     },
     "execution_count": 16,
     "metadata": {},
     "output_type": "execute_result"
    }
   ],
   "source": [
    "np.all(np.isclose(logits_k.grad, logits_t.grad.detach().numpy(), atol=1e-5))"
   ]
  },
  {
   "cell_type": "code",
   "execution_count": 17,
   "metadata": {},
   "outputs": [
    {
     "data": {
      "text/plain": [
       "True"
      ]
     },
     "execution_count": 17,
     "metadata": {},
     "output_type": "execute_result"
    }
   ],
   "source": [
    "np.all(np.isclose(h_k.grad, h_t.grad.detach().numpy(), atol=1e-5))"
   ]
  },
  {
   "cell_type": "code",
   "execution_count": 18,
   "metadata": {},
   "outputs": [
    {
     "data": {
      "text/plain": [
       "True"
      ]
     },
     "execution_count": 18,
     "metadata": {},
     "output_type": "execute_result"
    }
   ],
   "source": [
    "np.all(np.isclose(hpreact_k.grad, hpreact_t.grad.detach().numpy(), atol=1e-5))"
   ]
  },
  {
   "cell_type": "code",
   "execution_count": 19,
   "metadata": {},
   "outputs": [
    {
     "data": {
      "text/plain": [
       "True"
      ]
     },
     "execution_count": 19,
     "metadata": {},
     "output_type": "execute_result"
    }
   ],
   "source": [
    "np.all(np.isclose(bnraw_k.grad, bnraw_t.grad.detach().numpy(), atol=1e-5)) "
   ]
  },
  {
   "cell_type": "code",
   "execution_count": 20,
   "metadata": {},
   "outputs": [
    {
     "data": {
      "text/plain": [
       "True"
      ]
     },
     "execution_count": 20,
     "metadata": {},
     "output_type": "execute_result"
    }
   ],
   "source": [
    "np.all(np.isclose(bnvar_inv_k.grad, bnvar_inv_t.grad.detach().numpy(), atol=1e-5))"
   ]
  },
  {
   "cell_type": "code",
   "execution_count": 21,
   "metadata": {},
   "outputs": [
    {
     "data": {
      "text/plain": [
       "True"
      ]
     },
     "execution_count": 21,
     "metadata": {},
     "output_type": "execute_result"
    }
   ],
   "source": [
    "np.all(np.isclose(bndiff2_k.grad, bndiff2_t.grad.detach().numpy(), atol=1e-5))"
   ]
  },
  {
   "cell_type": "code",
   "execution_count": 22,
   "metadata": {},
   "outputs": [
    {
     "data": {
      "text/plain": [
       "True"
      ]
     },
     "execution_count": 22,
     "metadata": {},
     "output_type": "execute_result"
    }
   ],
   "source": [
    "np.all(np.isclose(bndiff_k.grad, bndiff_t.grad.detach().numpy(), atol=1e-5))"
   ]
  },
  {
   "cell_type": "code",
   "execution_count": 23,
   "metadata": {},
   "outputs": [
    {
     "data": {
      "text/plain": [
       "True"
      ]
     },
     "execution_count": 23,
     "metadata": {},
     "output_type": "execute_result"
    }
   ],
   "source": [
    "np.all(np.isclose(bnvar_k.grad, bnvar_t.grad.detach().numpy(), atol=1e-5))"
   ]
  },
  {
   "cell_type": "code",
   "execution_count": 24,
   "metadata": {},
   "outputs": [
    {
     "data": {
      "text/plain": [
       "True"
      ]
     },
     "execution_count": 24,
     "metadata": {},
     "output_type": "execute_result"
    }
   ],
   "source": [
    "np.all(np.isclose(bnmeani_k.grad, bnmeani_t.grad.detach().numpy(), atol=1e-5))"
   ]
  },
  {
   "cell_type": "code",
   "execution_count": 25,
   "metadata": {},
   "outputs": [
    {
     "data": {
      "text/plain": [
       "True"
      ]
     },
     "execution_count": 25,
     "metadata": {},
     "output_type": "execute_result"
    }
   ],
   "source": [
    "np.all(np.isclose(hprebn_k.grad, hprebn_t.grad.detach().numpy(), atol=1e-5))"
   ]
  }
 ],
 "metadata": {
  "kernelspec": {
   "display_name": "Python 3",
   "language": "python",
   "name": "python3"
  },
  "language_info": {
   "codemirror_mode": {
    "name": "ipython",
    "version": 3
   },
   "file_extension": ".py",
   "mimetype": "text/x-python",
   "name": "python",
   "nbconvert_exporter": "python",
   "pygments_lexer": "ipython3",
   "version": "3.11.5"
  }
 },
 "nbformat": 4,
 "nbformat_minor": 2
}
