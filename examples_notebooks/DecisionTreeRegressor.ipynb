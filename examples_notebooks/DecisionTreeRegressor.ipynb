{
 "cells": [
  {
   "cell_type": "markdown",
   "metadata": {},
   "source": [
    "# Decesion Tree Regression 🌳"
   ]
  },
  {
   "cell_type": "code",
   "execution_count": 15,
   "metadata": {},
   "outputs": [
    {
     "name": "stdout",
     "output_type": "stream",
     "text": [
      "e:\\\n"
     ]
    }
   ],
   "source": [
    "%cd .."
   ]
  },
  {
   "cell_type": "code",
   "execution_count": 16,
   "metadata": {},
   "outputs": [],
   "source": [
    "# Importing the required libraries\n",
    "from algorithms.tree.DecisionTreeRegressor import DecisionTreeRegressor\n",
    "from sklearn.tree import DecisionTreeRegressor as DTR\n",
    "from sklearn.datasets import load_diabetes\n",
    "from sklearn.model_selection import train_test_split\n",
    "from sklearn.metrics import mean_squared_error\n",
    "import warnings\n",
    "\n",
    "warnings.filterwarnings('ignore')"
   ]
  },
  {
   "cell_type": "code",
   "execution_count": 17,
   "metadata": {},
   "outputs": [
    {
     "data": {
      "text/plain": [
       "((353, 10), (89, 10), (353,), (89,))"
      ]
     },
     "execution_count": 17,
     "metadata": {},
     "output_type": "execute_result"
    }
   ],
   "source": [
    "# Fetching the California housing dataset\n",
    "data = load_diabetes()\n",
    "X = data.data\n",
    "y = data.target\n",
    "X_train, X_test, y_train, y_test = train_test_split(X, y, test_size=0.2, random_state=42)\n",
    "X_train.shape, X_test.shape, y_train.shape, y_test.shape"
   ]
  },
  {
   "cell_type": "code",
   "execution_count": 18,
   "metadata": {},
   "outputs": [
    {
     "data": {
      "text/plain": [
       "0.26226898928105"
      ]
     },
     "execution_count": 18,
     "metadata": {},
     "output_type": "execute_result"
    }
   ],
   "source": [
    "# Training the Decision Tree Regressor\n",
    "model = DecisionTreeRegressor(criterion='squared_error', splitter='best', max_depth=5)\n",
    "model.fit(X_train, y_train)\n",
    "model.score(X_test, y_test)"
   ]
  },
  {
   "cell_type": "code",
   "execution_count": 19,
   "metadata": {},
   "outputs": [
    {
     "data": {
      "text/plain": [
       "0.2768037404643843"
      ]
     },
     "execution_count": 19,
     "metadata": {},
     "output_type": "execute_result"
    }
   ],
   "source": [
    "# Training the Decision Tree Regressor from sklearn\n",
    "model = DTR(criterion='squared_error', splitter='best', max_depth=5)\n",
    "model.fit(X_train, y_train)\n",
    "model.score(X_test, y_test)"
   ]
  },
  {
   "cell_type": "code",
   "execution_count": 20,
   "metadata": {},
   "outputs": [
    {
     "name": "stdout",
     "output_type": "stream",
     "text": [
      "squared_error for my model: 3317.1408069223403\n",
      "squared_error for sklearn: 3633.4312423350934\n",
      "absolute_error for my model: 47.41217740351763\n",
      "absolute_error for sklearn: 49.949438202247194\n",
      "friedman_mse for my model: 3429.9935879097197\n",
      "friedman_mse for sklearn: 3438.6007492236367\n"
     ]
    }
   ],
   "source": [
    "# Training the Decision Tree Regressor with all criterions\n",
    "criterions = ['squared_error', 'absolute_error', 'friedman_mse']\n",
    "\n",
    "for criterion in criterions:\n",
    "    model = DecisionTreeRegressor(criterion=criterion, splitter='best', max_depth=5)\n",
    "    model.fit(X_train, y_train)\n",
    "    criterion_func = model.criterion\n",
    "    print(f'{criterion} for my model: {criterion_func(y_test, model.predict(X_test))}')\n",
    "\n",
    "    model = DTR(criterion=criterion, splitter='best', max_depth=5)\n",
    "    model.fit(X_train, y_train)\n",
    "    print(f'{criterion} for sklearn: {criterion_func(y_test, model.predict(X_test))}')\n"
   ]
  },
  {
   "cell_type": "code",
   "execution_count": 21,
   "metadata": {},
   "outputs": [
    {
     "name": "stdout",
     "output_type": "stream",
     "text": [
      "friedman_mse for my model: 3660.3467994317043\n",
      "friedman_mse for sklearn: 3543.3076468294753\n",
      "friedman_mse for my model: 5089.119187531463\n",
      "friedman_mse for sklearn: 4648.344590515642\n"
     ]
    }
   ],
   "source": [
    "# Training with different splitters\n",
    "splitters = ['best', 'random']\n",
    "\n",
    "for splitter in splitters:\n",
    "    model = DecisionTreeRegressor(criterion='squared_error', splitter=splitter, max_depth=5)\n",
    "    model.fit(X_train, y_train)\n",
    "    criterion_func = model.criterion\n",
    "    print(f'{criterion} for my model: {criterion_func(y_test, model.predict(X_test))}')\n",
    "\n",
    "    model = DTR(criterion='squared_error', splitter=splitter, max_depth=5)\n",
    "    model.fit(X_train, y_train)\n",
    "    print(f'{criterion} for sklearn: {criterion_func(y_test, model.predict(X_test))}')"
   ]
  }
 ],
 "metadata": {
  "kernelspec": {
   "display_name": "Python 3",
   "language": "python",
   "name": "python3"
  },
  "language_info": {
   "codemirror_mode": {
    "name": "ipython",
    "version": 3
   },
   "file_extension": ".py",
   "mimetype": "text/x-python",
   "name": "python",
   "nbconvert_exporter": "python",
   "pygments_lexer": "ipython3",
   "version": "3.11.5"
  }
 },
 "nbformat": 4,
 "nbformat_minor": 2
}
