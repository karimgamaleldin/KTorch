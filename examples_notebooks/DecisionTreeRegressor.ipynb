{
 "cells": [
  {
   "cell_type": "markdown",
   "metadata": {},
   "source": [
    "# Decesion Tree Regression 🌳"
   ]
  },
  {
   "cell_type": "code",
   "execution_count": 1,
   "metadata": {},
   "outputs": [
    {
     "name": "stdout",
     "output_type": "stream",
     "text": [
      "e:\\KTorch\n"
     ]
    },
    {
     "name": "stderr",
     "output_type": "stream",
     "text": [
      "C:\\Users\\Karim\\AppData\\Roaming\\Python\\Python311\\site-packages\\IPython\\core\\magics\\osm.py:417: UserWarning: using dhist requires you to install the `pickleshare` library.\n",
      "  self.shell.db['dhist'] = compress_dhist(dhist)[-100:]\n"
     ]
    }
   ],
   "source": [
    "%cd .."
   ]
  },
  {
   "cell_type": "code",
   "execution_count": 8,
   "metadata": {},
   "outputs": [],
   "source": [
    "# Importing the required libraries\n",
    "from algorithms.tree.DecisionTreeRegressor import DecisionTreeRegressor\n",
    "from sklearn.tree import DecisionTreeRegressor as DTR\n",
    "from sklearn.datasets import load_diabetes\n",
    "from sklearn.model_selection import train_test_split\n",
    "from sklearn.metrics import mean_squared_error\n",
    "import warnings\n",
    "\n",
    "warnings.filterwarnings('ignore')"
   ]
  },
  {
   "cell_type": "code",
   "execution_count": 9,
   "metadata": {},
   "outputs": [
    {
     "data": {
      "text/plain": [
       "((353, 10), (89, 10), (353,), (89,))"
      ]
     },
     "execution_count": 9,
     "metadata": {},
     "output_type": "execute_result"
    }
   ],
   "source": [
    "# Fetching the California housing dataset\n",
    "data = load_diabetes()\n",
    "X = data.data\n",
    "y = data.target\n",
    "X_train, X_test, y_train, y_test = train_test_split(X, y, test_size=0.2, random_state=42)\n",
    "X_train.shape, X_test.shape, y_train.shape, y_test.shape"
   ]
  },
  {
   "cell_type": "code",
   "execution_count": 12,
   "metadata": {},
   "outputs": [
    {
     "data": {
      "text/plain": [
       "3565.404851866161"
      ]
     },
     "execution_count": 12,
     "metadata": {},
     "output_type": "execute_result"
    }
   ],
   "source": [
    "# Training the Decision Tree Regressor\n",
    "model = DecisionTreeRegressor(criterion='squared_error', splitter='best', max_depth=5)\n",
    "model.fit(X_train, y_train)\n",
    "model.score(X_test, y_test)"
   ]
  },
  {
   "cell_type": "code",
   "execution_count": 13,
   "metadata": {},
   "outputs": [
    {
     "data": {
      "text/plain": [
       "3921.7271224849064"
      ]
     },
     "execution_count": 13,
     "metadata": {},
     "output_type": "execute_result"
    }
   ],
   "source": [
    "# Training the Decision Tree Regressor from sklearn\n",
    "model = DTR(criterion='squared_error', splitter='best', max_depth=5)\n",
    "model.fit(X_train, y_train)\n",
    "mean_squared_error(y_test, model.predict(X_test))"
   ]
  },
  {
   "cell_type": "code",
   "execution_count": 18,
   "metadata": {},
   "outputs": [
    {
     "name": "stdout",
     "output_type": "stream",
     "text": [
      "squared_error for my model: 3430.4526046751503\n",
      "squared_error for sklearn: 3924.131616866929\n",
      "absolute_error for my model: 3954.89288939928\n",
      "absolute_error for sklearn: 4487.8342696629215\n",
      "friedman_mse for my model: 3430.4526046751503\n",
      "friedman_mse for sklearn: 3618.0304932714234\n"
     ]
    }
   ],
   "source": [
    "# Training the Decision Tree Regressor with all criterions\n",
    "criterions = ['squared_error', 'absolute_error', 'friedman_mse']\n",
    "\n",
    "for criterion in criterions:\n",
    "    model = DecisionTreeRegressor(criterion=criterion, splitter='best', max_depth=5)\n",
    "    model.fit(X_train, y_train)\n",
    "    print(f'{criterion} for my model: {model.score(X_test, y_test)}')\n",
    "\n",
    "    model = DTR(criterion=criterion, splitter='best', max_depth=5)\n",
    "    model.fit(X_train, y_train)\n",
    "    print(f'{criterion} for sklearn: {mean_squared_error(y_test, model.predict(X_test))}')\n"
   ]
  },
  {
   "cell_type": "code",
   "execution_count": 26,
   "metadata": {},
   "outputs": [
    {
     "name": "stdout",
     "output_type": "stream",
     "text": [
      "best for my model: 3773.658597184514\n",
      "best for sklearn: 3391.11663559352\n",
      "random for my model: 4241.084937161618\n",
      "random for sklearn: 4279.258452826479\n"
     ]
    }
   ],
   "source": [
    "# Training with different splitters\n",
    "splitters = ['best', 'random']\n",
    "\n",
    "for splitter in splitters:\n",
    "    model = DecisionTreeRegressor(criterion='squared_error', splitter=splitter, max_depth=5)\n",
    "    model.fit(X_train, y_train)\n",
    "    print(f'{splitter} for my model: {model.score(X_test, y_test)}')\n",
    "\n",
    "    model = DTR(criterion='squared_error', splitter=splitter, max_depth=5)\n",
    "    model.fit(X_train, y_train)\n",
    "    print(f'{splitter} for sklearn: {mean_squared_error(y_test, model.predict(X_test))}')"
   ]
  }
 ],
 "metadata": {
  "kernelspec": {
   "display_name": "Python 3",
   "language": "python",
   "name": "python3"
  },
  "language_info": {
   "codemirror_mode": {
    "name": "ipython",
    "version": 3
   },
   "file_extension": ".py",
   "mimetype": "text/x-python",
   "name": "python",
   "nbconvert_exporter": "python",
   "pygments_lexer": "ipython3",
   "version": "3.11.5"
  }
 },
 "nbformat": 4,
 "nbformat_minor": 2
}
