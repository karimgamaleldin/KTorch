{
 "cells": [
  {
   "cell_type": "markdown",
   "metadata": {},
   "source": [
    "# Decesion Tree Regression 🌳"
   ]
  },
  {
   "cell_type": "code",
   "execution_count": 1,
   "metadata": {},
   "outputs": [
    {
     "name": "stdout",
     "output_type": "stream",
     "text": [
      "e:\\KTorch\n"
     ]
    },
    {
     "name": "stderr",
     "output_type": "stream",
     "text": [
      "C:\\Users\\Karim\\AppData\\Roaming\\Python\\Python311\\site-packages\\IPython\\core\\magics\\osm.py:417: UserWarning: using dhist requires you to install the `pickleshare` library.\n",
      "  self.shell.db['dhist'] = compress_dhist(dhist)[-100:]\n"
     ]
    }
   ],
   "source": [
    "%cd .."
   ]
  },
  {
   "cell_type": "code",
   "execution_count": 2,
   "metadata": {},
   "outputs": [],
   "source": [
    "# Importing the required libraries\n",
    "from algorithms.tree.DecisionTreeRegressor import DecisionTreeRegressor\n",
    "from sklearn.tree import DecisionTreeRegressor as DTR\n",
    "from sklearn.datasets import load_diabetes\n",
    "from sklearn.model_selection import train_test_split\n",
    "from sklearn.metrics import mean_squared_error\n",
    "import warnings\n",
    "\n",
    "warnings.filterwarnings('ignore')"
   ]
  },
  {
   "cell_type": "code",
   "execution_count": 3,
   "metadata": {},
   "outputs": [
    {
     "data": {
      "text/plain": [
       "((353, 10), (89, 10), (353,), (89,))"
      ]
     },
     "execution_count": 3,
     "metadata": {},
     "output_type": "execute_result"
    }
   ],
   "source": [
    "# Fetching the California housing dataset\n",
    "data = load_diabetes()\n",
    "X = data.data\n",
    "y = data.target\n",
    "X_train, X_test, y_train, y_test = train_test_split(X, y, test_size=0.2, random_state=42)\n",
    "X_train.shape, X_test.shape, y_train.shape, y_test.shape"
   ]
  },
  {
   "cell_type": "code",
   "execution_count": 4,
   "metadata": {},
   "outputs": [
    {
     "data": {
      "text/plain": [
       "0.30912760276136986"
      ]
     },
     "execution_count": 4,
     "metadata": {},
     "output_type": "execute_result"
    }
   ],
   "source": [
    "# Training the Decision Tree Regressor\n",
    "model = DecisionTreeRegressor(criterion='squared_error', splitter='best', max_depth=5)\n",
    "model.fit(X_train, y_train)\n",
    "model.score(X_test, y_test)"
   ]
  },
  {
   "cell_type": "code",
   "execution_count": 5,
   "metadata": {},
   "outputs": [
    {
     "data": {
      "text/plain": [
       "0.32904229522825323"
      ]
     },
     "execution_count": 5,
     "metadata": {},
     "output_type": "execute_result"
    }
   ],
   "source": [
    "# Training the Decision Tree Regressor from sklearn\n",
    "model = DTR(criterion='squared_error', splitter='best', max_depth=5)\n",
    "model.fit(X_train, y_train)\n",
    "model.score(X_test, y_test)"
   ]
  },
  {
   "cell_type": "code",
   "execution_count": 12,
   "metadata": {},
   "outputs": [
    {
     "name": "stdout",
     "output_type": "stream",
     "text": [
      "squared_error for my model: 3908.6108443755243\n",
      "squared_error for sklearn: 3921.7271224849064\n",
      "absolute_error for my model: 47.850379650708646\n",
      "absolute_error for sklearn: 52.40449438202247\n",
      "friedman_mse for my model: 3658.711901287346\n",
      "friedman_mse for sklearn: 3613.578781130019\n"
     ]
    }
   ],
   "source": [
    "# Training the Decision Tree Regressor with all criterions\n",
    "criterions = ['squared_error', 'absolute_error', 'friedman_mse']\n",
    "\n",
    "for criterion in criterions:\n",
    "    model = DecisionTreeRegressor(criterion=criterion, splitter='best', max_depth=5)\n",
    "    model.fit(X_train, y_train)\n",
    "    criterion_func = model.criterion\n",
    "    print(f'{criterion} for my model: {criterion_func(y_test, model.predict(X_test))}')\n",
    "\n",
    "    model = DTR(criterion=criterion, splitter='best', max_depth=5)\n",
    "    model.fit(X_train, y_train)\n",
    "    print(f'{criterion} for sklearn: {criterion_func(y_test, model.predict(X_test))}')\n"
   ]
  },
  {
   "cell_type": "code",
   "execution_count": 14,
   "metadata": {},
   "outputs": [
    {
     "name": "stdout",
     "output_type": "stream",
     "text": [
      "friedman_mse for my model: 3565.404851866161\n",
      "friedman_mse for sklearn: 3633.4312423350934\n",
      "friedman_mse for my model: 4983.420308712748\n",
      "friedman_mse for sklearn: 3423.4115345626565\n"
     ]
    }
   ],
   "source": [
    "# Training with different splitters\n",
    "splitters = ['best', 'random']\n",
    "\n",
    "for splitter in splitters:\n",
    "    model = DecisionTreeRegressor(criterion='squared_error', splitter=splitter, max_depth=5)\n",
    "    model.fit(X_train, y_train)\n",
    "    criterion_func = model.criterion\n",
    "    print(f'{criterion} for my model: {criterion_func(y_test, model.predict(X_test))}')\n",
    "\n",
    "    model = DTR(criterion='squared_error', splitter=splitter, max_depth=5)\n",
    "    model.fit(X_train, y_train)\n",
    "    print(f'{criterion} for sklearn: {criterion_func(y_test, model.predict(X_test))}')"
   ]
  }
 ],
 "metadata": {
  "kernelspec": {
   "display_name": "Python 3",
   "language": "python",
   "name": "python3"
  },
  "language_info": {
   "codemirror_mode": {
    "name": "ipython",
    "version": 3
   },
   "file_extension": ".py",
   "mimetype": "text/x-python",
   "name": "python",
   "nbconvert_exporter": "python",
   "pygments_lexer": "ipython3",
   "version": "3.11.5"
  }
 },
 "nbformat": 4,
 "nbformat_minor": 2
}
