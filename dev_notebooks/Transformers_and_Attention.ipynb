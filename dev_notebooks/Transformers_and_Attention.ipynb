{
 "cells": [
  {
   "cell_type": "markdown",
   "metadata": {},
   "source": [
    "# Transformers & Attention"
   ]
  },
  {
   "cell_type": "code",
   "execution_count": 1,
   "metadata": {},
   "outputs": [
    {
     "name": "stdout",
     "output_type": "stream",
     "text": [
      "/home/karimgamaleldin/projects/KTorch\n"
     ]
    }
   ],
   "source": [
    "%cd ../.."
   ]
  },
  {
   "cell_type": "code",
   "execution_count": 2,
   "metadata": {},
   "outputs": [],
   "source": [
    "# imports \n",
    "import numpy as np\n",
    "from nn import MultiheadAttention, Linear, ReLU, MSELoss\n",
    "from autograd import Tensor\n",
    "from core import KTorch"
   ]
  },
  {
   "cell_type": "markdown",
   "metadata": {},
   "source": [
    "### Multi-head attention"
   ]
  },
  {
   "cell_type": "code",
   "execution_count": 3,
   "metadata": {},
   "outputs": [
    {
     "data": {
      "text/plain": [
       "(16, 1)"
      ]
     },
     "execution_count": 3,
     "metadata": {},
     "output_type": "execute_result"
    }
   ],
   "source": [
    "# Create input\n",
    "np.random.seed(0)\n",
    "x = np.random.randn(16, 10, 64).astype(np.float32)\n",
    "y = np.random.randint(0, 100, 1).astype(np.float32)\n",
    "\n",
    "x_t = Tensor(x)\n",
    "y_t = Tensor(y)\n",
    "\n",
    "# Create MultiheadAttention\n",
    "mha = MultiheadAttention(64, 8, add_bias_kv=True)\n",
    "linear = Linear(64, 1)\n",
    "relu = ReLU()\n",
    "mha_output  = mha(x_t, x_t, x_t)\n",
    "linear_output = linear(mha_output[:, -1, :])\n",
    "relu_output = relu(linear_output)\n",
    "relu_output.shape"
   ]
  },
  {
   "cell_type": "code",
   "execution_count": 4,
   "metadata": {},
   "outputs": [
    {
     "name": "stdout",
     "output_type": "stream",
     "text": [
      "True True True\n"
     ]
    },
    {
     "data": {
      "text/plain": [
       "(16, 1)"
      ]
     },
     "execution_count": 4,
     "metadata": {},
     "output_type": "execute_result"
    }
   ],
   "source": [
    "# Manual calculation\n",
    "q_w, k_w, v_w = mha.q.weight.data, mha.k.weight.data, mha.v.weight.data\n",
    "q_b, k_b, v_b = mha.q.bias.data, mha.k.bias.data, mha.v.bias.data\n",
    "\n",
    "q = x @ q_w + q_b\n",
    "k = x @ k_w + k_b\n",
    "v = x @ v_w + v_b\n",
    "\n",
    "print((q == mha.q(x_t).data).all(), (k == mha.k(x_t).data).all(), (v == mha.v(x_t).data).all())\n",
    "\n",
    "q = q.reshape(16, 10, 8, 8).transpose(0, 2, 1, 3)\n",
    "k = k.reshape(16, 10, 8, 8).transpose(0, 2, 1, 3)\n",
    "v = v.reshape(16, 10, 8, 8).transpose(0, 2, 1, 3)\n",
    "\n",
    "attention = np.matmul(q, k.transpose(0, 1, 3, 2))\n",
    "attention = attention * np.sqrt(8, dtype=np.float32)**-1\n",
    "t = np.exp(attention - np.max(attention, axis=-1, keepdims=True)).astype(np.float32)\n",
    "attention = t / np.sum(t, axis=-1, keepdims=True).astype(np.float32)\n",
    "output = attention @ v\n",
    "output = output.transpose(0, 2, 1, 3).reshape(16, 10, 64)\n",
    "output = output @ mha.out.weight.data + mha.out.bias.data\n",
    "output = output[:, -1, :]\n",
    "lin_manual = output @ linear.weight.data + linear.bias.data\n",
    "relu_manual = np.maximum(0, lin_manual)\n",
    "relu_manual.shape"
   ]
  },
  {
   "cell_type": "code",
   "execution_count": 5,
   "metadata": {},
   "outputs": [
    {
     "name": "stdout",
     "output_type": "stream",
     "text": [
      "True\n"
     ]
    }
   ],
   "source": [
    "# Check equivalence\n",
    "print(np.equal(relu_output.data, relu_manual).all())"
   ]
  },
  {
   "cell_type": "code",
   "execution_count": 6,
   "metadata": {},
   "outputs": [
    {
     "data": {
      "text/plain": [
       "True"
      ]
     },
     "execution_count": 6,
     "metadata": {},
     "output_type": "execute_result"
    }
   ],
   "source": [
    "# Loss\n",
    "loss = MSELoss()\n",
    "loss_value = loss(relu_output, y_t)\n",
    "\n",
    "# Manual calculation\n",
    "loss_manual = np.mean((relu_manual - y)**2)\n",
    "np.equal(loss_value.data, loss_manual).all()"
   ]
  },
  {
   "cell_type": "code",
   "execution_count": 7,
   "metadata": {},
   "outputs": [
    {
     "ename": "ValueError",
     "evalue": "non-broadcastable output operand with shape (64,64) doesn't match the broadcast shape (16,64,64)",
     "output_type": "error",
     "traceback": [
      "\u001b[0;31m---------------------------------------------------------------------------\u001b[0m",
      "\u001b[0;31mValueError\u001b[0m                                Traceback (most recent call last)",
      "Cell \u001b[0;32mIn[7], line 2\u001b[0m\n\u001b[1;32m      1\u001b[0m \u001b[38;5;66;03m# Backward\u001b[39;00m\n\u001b[0;32m----> 2\u001b[0m \u001b[43mloss_value\u001b[49m\u001b[38;5;241;43m.\u001b[39;49m\u001b[43mbackward\u001b[49m\u001b[43m(\u001b[49m\u001b[43m)\u001b[49m\n",
      "File \u001b[0;32m~/projects/KTorch/autograd/engine.py:287\u001b[0m, in \u001b[0;36mTensor.backward\u001b[0;34m(self)\u001b[0m\n\u001b[1;32m    285\u001b[0m \u001b[38;5;28mself\u001b[39m\u001b[38;5;241m.\u001b[39mgrad \u001b[38;5;241m=\u001b[39m np\u001b[38;5;241m.\u001b[39mones_like(\u001b[38;5;28mself\u001b[39m\u001b[38;5;241m.\u001b[39mdata)\n\u001b[1;32m    286\u001b[0m \u001b[38;5;28;01mfor\u001b[39;00m node \u001b[38;5;129;01min\u001b[39;00m \u001b[38;5;28mreversed\u001b[39m(topo):\n\u001b[0;32m--> 287\u001b[0m   \u001b[43mnode\u001b[49m\u001b[38;5;241;43m.\u001b[39;49m\u001b[43m_backward\u001b[49m\u001b[43m(\u001b[49m\u001b[43m)\u001b[49m\n",
      "File \u001b[0;32m~/projects/KTorch/autograd/engine.py:313\u001b[0m, in \u001b[0;36mTensor.__matmul__.<locals>._backward\u001b[0;34m()\u001b[0m\n\u001b[1;32m    309\u001b[0m \u001b[38;5;28mself\u001b[39m\u001b[38;5;241m.\u001b[39mgrad \u001b[38;5;241m+\u001b[39m\u001b[38;5;241m=\u001b[39m np\u001b[38;5;241m.\u001b[39mmatmul(out\u001b[38;5;241m.\u001b[39mgrad, np\u001b[38;5;241m.\u001b[39mswapaxes(other\u001b[38;5;241m.\u001b[39mdata,\u001b[38;5;241m-\u001b[39m\u001b[38;5;241m1\u001b[39m, \u001b[38;5;241m-\u001b[39m\u001b[38;5;241m2\u001b[39m)) \u001b[38;5;66;03m# (n, p) * (p, m) = (n, m)\u001b[39;00m\n\u001b[1;32m    310\u001b[0m \u001b[38;5;66;03m# print(self.data.T.shape)\u001b[39;00m\n\u001b[1;32m    311\u001b[0m \u001b[38;5;66;03m# print(out.grad.shape)\u001b[39;00m\n\u001b[1;32m    312\u001b[0m \u001b[38;5;66;03m# print(np.matmul(self.data.T, out.grad).shape)\u001b[39;00m\n\u001b[0;32m--> 313\u001b[0m other\u001b[38;5;241m.\u001b[39mgrad \u001b[38;5;241m+\u001b[39m\u001b[38;5;241m=\u001b[39m np\u001b[38;5;241m.\u001b[39mmatmul(np\u001b[38;5;241m.\u001b[39mswapaxes(\u001b[38;5;28mself\u001b[39m\u001b[38;5;241m.\u001b[39mdata, \u001b[38;5;241m-\u001b[39m\u001b[38;5;241m1\u001b[39m, \u001b[38;5;241m-\u001b[39m\u001b[38;5;241m2\u001b[39m), out\u001b[38;5;241m.\u001b[39mgrad)\n",
      "\u001b[0;31mValueError\u001b[0m: non-broadcastable output operand with shape (64,64) doesn't match the broadcast shape (16,64,64)"
     ]
    }
   ],
   "source": [
    "# Backward\n",
    "loss_value.backward()"
   ]
  },
  {
   "cell_type": "code",
   "execution_count": null,
   "metadata": {},
   "outputs": [],
   "source": []
  }
 ],
 "metadata": {
  "kernelspec": {
   "display_name": "Python 3",
   "language": "python",
   "name": "python3"
  },
  "language_info": {
   "codemirror_mode": {
    "name": "ipython",
    "version": 3
   },
   "file_extension": ".py",
   "mimetype": "text/x-python",
   "name": "python",
   "nbconvert_exporter": "python",
   "pygments_lexer": "ipython3",
   "version": "3.10.12"
  }
 },
 "nbformat": 4,
 "nbformat_minor": 2
}
