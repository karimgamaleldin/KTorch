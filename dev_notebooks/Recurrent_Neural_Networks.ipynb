{
 "cells": [
  {
   "cell_type": "markdown",
   "metadata": {},
   "source": [
    "# Recurrent Neural Networks 🧠"
   ]
  },
  {
   "cell_type": "code",
   "execution_count": 1,
   "metadata": {},
   "outputs": [
    {
     "name": "stderr",
     "output_type": "stream",
     "text": [
      "C:\\Users\\Karim\\AppData\\Roaming\\Python\\Python311\\site-packages\\IPython\\core\\magics\\osm.py:417: UserWarning: using dhist requires you to install the `pickleshare` library.\n",
      "  self.shell.db['dhist'] = compress_dhist(dhist)[-100:]\n"
     ]
    },
    {
     "name": "stdout",
     "output_type": "stream",
     "text": [
      "e:\\KTorch\n"
     ]
    }
   ],
   "source": [
    "# imports\n",
    "%cd ..\n",
    "import numpy as np\n",
    "from nn import RNN, RNNCell, LSTM, LSTMCell, GRU, GRUCell\n",
    "from autograd import Tensor\n",
    "from core import KTorch"
   ]
  },
  {
   "cell_type": "markdown",
   "metadata": {},
   "source": [
    "### RNN & RNNCell"
   ]
  },
  {
   "cell_type": "code",
   "execution_count": 2,
   "metadata": {},
   "outputs": [
    {
     "name": "stdout",
     "output_type": "stream",
     "text": [
      "(32, 16, 64)\n"
     ]
    },
    {
     "data": {
      "text/plain": [
       "(32, 128)"
      ]
     },
     "execution_count": 2,
     "metadata": {},
     "output_type": "execute_result"
    }
   ],
   "source": [
    "# Getting the input\n",
    "np.random.seed(0)\n",
    "x = np.random.randn(32, 16, 64)\n",
    "hidden = np.random.randn(32, 128)\n",
    "\n",
    "x_t = Tensor(x)\n",
    "x_t_cell = Tensor(x[:, 0, :])\n",
    "hidden = Tensor(hidden)\n",
    "print(x_t.shape)\n",
    "\n",
    "# RNNCell\n",
    "rnn_cell = RNNCell(64, 128, bias=True)\n",
    "\n",
    "rnn_cell(x_t_cell, hidden).shape"
   ]
  },
  {
   "cell_type": "code",
   "execution_count": 3,
   "metadata": {},
   "outputs": [
    {
     "data": {
      "text/plain": [
       "((32, 128), (32, 128), (32, 256), (32, 256), 16, 2, 16, 2)"
      ]
     },
     "execution_count": 3,
     "metadata": {},
     "output_type": "execute_result"
    }
   ],
   "source": [
    "# RNN\n",
    "\n",
    "rnn_bi = RNN(64, 128, 2, bias=True, bidirectional=True)\n",
    "rnn = RNN(64, 128, 2, bias=True, bidirectional=False)\n",
    "\n",
    "out, hidden = rnn(x_t)\n",
    "out_bi, hidden_bi = rnn_bi(x_t)\n",
    "\n",
    "out[0].shape, hidden[0].shape, out_bi[0].shape, hidden_bi[0].shape, len(out), len(hidden), len(out_bi), len(hidden_bi)"
   ]
  },
  {
   "cell_type": "code",
   "execution_count": 4,
   "metadata": {},
   "outputs": [],
   "source": [
    "#todo: stack RNN outputs in one tensor"
   ]
  },
  {
   "cell_type": "markdown",
   "metadata": {},
   "source": [
    "### GRU & GRUCell"
   ]
  },
  {
   "cell_type": "code",
   "execution_count": 5,
   "metadata": {},
   "outputs": [
    {
     "name": "stdout",
     "output_type": "stream",
     "text": [
      "(32, 3, 64)\n"
     ]
    },
    {
     "data": {
      "text/plain": [
       "(32, 128)"
      ]
     },
     "execution_count": 5,
     "metadata": {},
     "output_type": "execute_result"
    }
   ],
   "source": [
    "# Getting the input\n",
    "np.random.seed(0)\n",
    "x = np.random.randn(32, 3, 64)\n",
    "hidden = np.random.randn(32, 128)\n",
    "\n",
    "x_t = Tensor(x)\n",
    "x_t_cell = Tensor(x[:, 0, :])\n",
    "hidden = Tensor(hidden)\n",
    "print(x_t.shape)\n",
    "\n",
    "# GRUCell\n",
    "gru_cell = GRUCell(64, 128, bias=True)\n",
    "\n",
    "gru_cell(x_t_cell, hidden).shape"
   ]
  },
  {
   "cell_type": "code",
   "execution_count": 6,
   "metadata": {},
   "outputs": [
    {
     "data": {
      "text/plain": [
       "((32, 128), (32, 128), (32, 256), (32, 256), 3, 2, 3, 2)"
      ]
     },
     "execution_count": 6,
     "metadata": {},
     "output_type": "execute_result"
    }
   ],
   "source": [
    "# GRU\n",
    "gru_bi = GRU(64, 128, 2, bias=True, bidirectional=True)\n",
    "gru = GRU(64, 128, 2, bias=True, bidirectional=False)\n",
    "\n",
    "out, hidden = gru(x_t)\n",
    "out_bi, hidden_bi = gru_bi(x_t)\n",
    "\n",
    "out[0].shape, hidden[0].shape, out_bi[0].shape, hidden_bi[0].shape, len(out), len(hidden), len(out_bi), len(hidden_bi)"
   ]
  },
  {
   "cell_type": "markdown",
   "metadata": {},
   "source": [
    "### LSTM & LSTMCell"
   ]
  },
  {
   "cell_type": "code",
   "execution_count": 7,
   "metadata": {},
   "outputs": [
    {
     "name": "stdout",
     "output_type": "stream",
     "text": [
      "(32, 2, 64)\n"
     ]
    },
    {
     "data": {
      "text/plain": [
       "((32, 128), (32, 128))"
      ]
     },
     "execution_count": 7,
     "metadata": {},
     "output_type": "execute_result"
    }
   ],
   "source": [
    "# Getting the input\n",
    "np.random.seed(0)\n",
    "x = np.random.randn(32, 2, 64)\n",
    "hidden = np.random.randn(32, 128)\n",
    "\n",
    "x_t = Tensor(x)\n",
    "x_t_cell = Tensor(x[:, 0, :])\n",
    "hidden = Tensor(hidden)\n",
    "print(x_t.shape)\n",
    "\n",
    "# LSTMCell\n",
    "lstm_cell = LSTMCell(64, 128, bias=True)\n",
    "\n",
    "out, cell = lstm_cell(x_t_cell, (hidden, hidden))\n",
    "out.shape, cell.shape"
   ]
  },
  {
   "cell_type": "code",
   "execution_count": 8,
   "metadata": {},
   "outputs": [
    {
     "data": {
      "text/plain": [
       "((32, 128), (32, 128), (32, 256), (32, 256), 2, 2, 2, 2)"
      ]
     },
     "execution_count": 8,
     "metadata": {},
     "output_type": "execute_result"
    }
   ],
   "source": [
    "# GRU\n",
    "lstm_bi = LSTM(64, 128, 2, bias=True, bidirectional=True)\n",
    "lstm = LSTM(64, 128, 2, bias=True, bidirectional=False)\n",
    "\n",
    "out, hidden = lstm(x_t)\n",
    "out_bi, hidden_bi = lstm_bi(x_t)\n",
    "\n",
    "out[0].shape, hidden[0].shape, out_bi[0].shape, hidden_bi[0].shape, len(out), len(hidden), len(out_bi), len(hidden_bi)"
   ]
  }
 ],
 "metadata": {
  "kernelspec": {
   "display_name": "Python 3",
   "language": "python",
   "name": "python3"
  },
  "language_info": {
   "codemirror_mode": {
    "name": "ipython",
    "version": 3
   },
   "file_extension": ".py",
   "mimetype": "text/x-python",
   "name": "python",
   "nbconvert_exporter": "python",
   "pygments_lexer": "ipython3",
   "version": "3.11.5"
  }
 },
 "nbformat": 4,
 "nbformat_minor": 2
}
