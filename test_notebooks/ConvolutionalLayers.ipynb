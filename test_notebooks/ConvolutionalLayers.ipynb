{
 "cells": [
  {
   "cell_type": "markdown",
   "metadata": {},
   "source": [
    "# Convolutional Layers"
   ]
  },
  {
   "cell_type": "code",
   "execution_count": 1,
   "metadata": {},
   "outputs": [
    {
     "name": "stdout",
     "output_type": "stream",
     "text": [
      "e:\\KTorch\n"
     ]
    },
    {
     "name": "stderr",
     "output_type": "stream",
     "text": [
      "C:\\Users\\Karim\\AppData\\Roaming\\Python\\Python311\\site-packages\\IPython\\core\\magics\\osm.py:417: UserWarning: using dhist requires you to install the `pickleshare` library.\n",
      "  self.shell.db['dhist'] = compress_dhist(dhist)[-100:]\n"
     ]
    }
   ],
   "source": [
    "%cd .."
   ]
  },
  {
   "cell_type": "code",
   "execution_count": 2,
   "metadata": {},
   "outputs": [],
   "source": [
    "# Imports\n",
    "import numpy as np\n",
    "from nn import Conv2d, Sequential, Flatten, Linear, BCEWithLogitsLoss, AvgPool2d, MaxPool2d\n",
    "from core import KTorch\n",
    "from autograd import Tensor"
   ]
  },
  {
   "cell_type": "code",
   "execution_count": 5,
   "metadata": {},
   "outputs": [],
   "source": [
    "# Initialize Conv2d layer\n",
    "conv_layer_zero_padding = Conv2d(in_channels=3, out_channels=1, kernel_size=3, stride=1, padding=1, bias=True, padding_mode='zeros')\n",
    "conv_layer_reflection_padding = Conv2d(in_channels=3, out_channels=1, kernel_size=3, stride=1, padding=1, bias=False, padding_mode='reflect')\n",
    "conv_layer_replication_padding = Conv2d(in_channels=3, out_channels=1, kernel_size=3, stride=1, padding=2, bias=False, padding_mode='replicate')\n",
    "conv_layer_circular_padding = Conv2d(in_channels=3, out_channels=1, kernel_size=3, stride=2, padding=2, bias=False, padding_mode='circular')\n",
    "max_pool_layer = MaxPool2d(kernel_size=2, stride=2)\n",
    "avg_pool_layer = AvgPool2d(kernel_size=2, stride=2)"
   ]
  },
  {
   "cell_type": "code",
   "execution_count": 6,
   "metadata": {},
   "outputs": [
    {
     "name": "stdout",
     "output_type": "stream",
     "text": [
      "Output shape: (1, 1, 5, 5)\n",
      "Output shape after max pooling: (1, 1, 2, 2)\n",
      "Output shape after avg pooling: (1, 1, 2, 2)\n",
      "Output shape: (1, 1, 5, 5)\n",
      "Output shape after max pooling: (1, 1, 2, 2)\n",
      "Output shape after avg pooling: (1, 1, 2, 2)\n",
      "Output shape: (1, 1, 7, 7)\n",
      "Output shape after max pooling: (1, 1, 3, 3)\n",
      "Output shape after avg pooling: (1, 1, 3, 3)\n",
      "Output shape: (1, 1, 4, 4)\n",
      "Output shape after max pooling: (1, 1, 2, 2)\n",
      "Output shape after avg pooling: (1, 1, 2, 2)\n",
      "Zero padding output height: 5.0\n",
      "Reflection padding output height: 5.0\n",
      "Replication padding output height: 7.0\n",
      "Circular padding output height: 4.0\n"
     ]
    }
   ],
   "source": [
    "# Initialize input tensor (batch_size, in_channels, height, width)\n",
    "input_data = np.random.rand(1, 3, 5, 5).astype(np.float32)\n",
    "input_tensor = Tensor(input_data)\n",
    "\n",
    "# Forward pass\n",
    "layers = [conv_layer_zero_padding, conv_layer_reflection_padding, conv_layer_replication_padding, conv_layer_circular_padding]\n",
    "\n",
    "for layer in layers:\n",
    "    output_tensor = layer(input_tensor)\n",
    "    print(f\"Output shape: {output_tensor.shape}\")\n",
    "    output_tensor_max_pool = max_pool_layer(output_tensor)\n",
    "    print(f\"Output shape after max pooling: {output_tensor_max_pool.shape}\")\n",
    "    output_tensor_avg_pool = avg_pool_layer(output_tensor)\n",
    "    print(f\"Output shape after avg pooling: {output_tensor_avg_pool.shape}\")\n",
    "\n",
    "# Shapes calculation\n",
    "# Zero padding\n",
    "# output_height = (input_height + 2 * padding - kernel_size) / stride + 1\n",
    "layer_1_out = (5 + 2 * 1 - 3) / 1 + 1\n",
    "layer_2_out = (5 + 2 * 1 - 3) / 1 + 1\n",
    "layer_3_out = (5 + 2 * 2 - 3) / 1 + 1\n",
    "layer_4_out = (5 + 2 * 2 - 3) / 2 + 1\n",
    "print(f\"Zero padding output height: {layer_1_out}\")\n",
    "print(f\"Reflection padding output height: {layer_2_out}\")\n",
    "print(f\"Replication padding output height: {layer_3_out}\")\n",
    "print(f\"Circular padding output height: {layer_4_out}\")"
   ]
  },
  {
   "cell_type": "code",
   "execution_count": 8,
   "metadata": {},
   "outputs": [
    {
     "name": "stdout",
     "output_type": "stream",
     "text": [
      "(3, 1) 0.8784423 0.35401046\n",
      "tensor: 0.6492912769317627\n"
     ]
    }
   ],
   "source": [
    "# Backward pass\n",
    "\n",
    "# Initialize input\n",
    "input_data = np.random.rand(3, 1, 5, 5).astype(np.float32)\n",
    "input_tensor = Tensor(input_data)\n",
    "\n",
    "# Initialize nn \n",
    "conv = Conv2d(in_channels=1, out_channels=3, kernel_size=3, stride=1, padding=1, bias=True, padding_mode='zeros')\n",
    "pool = MaxPool2d(kernel_size=2, stride=2)\n",
    "model = Sequential(conv, pool, Flatten(), Linear(3*2*2, 1))\n",
    "loss_fn = BCEWithLogitsLoss()\n",
    "\n",
    "# Get output\n",
    "output = model(input_tensor)\n",
    "loss_fn = BCEWithLogitsLoss()\n",
    "target = Tensor(np.random.rand(3, 1).astype(np.float32))\n",
    "print(target.shape, target.data.max(), target.data.min())\n",
    "loss = loss_fn(output, target)\n",
    "print(loss)\n",
    "\n",
    "# Backward pass\n",
    "loss.backward()"
   ]
  },
  {
   "cell_type": "code",
   "execution_count": 9,
   "metadata": {},
   "outputs": [
    {
     "name": "stdout",
     "output_type": "stream",
     "text": [
      "(3, 1, 3, 3)\n",
      "(3, 1, 1, 1)\n",
      "(75, 1)\n",
      "(1,)\n"
     ]
    }
   ],
   "source": [
    "for param in model.parameters():\n",
    "    print(param.grad.shape)"
   ]
  }
 ],
 "metadata": {
  "kernelspec": {
   "display_name": "Python 3",
   "language": "python",
   "name": "python3"
  },
  "language_info": {
   "codemirror_mode": {
    "name": "ipython",
    "version": 3
   },
   "file_extension": ".py",
   "mimetype": "text/x-python",
   "name": "python",
   "nbconvert_exporter": "python",
   "pygments_lexer": "ipython3",
   "version": "3.11.5"
  }
 },
 "nbformat": 4,
 "nbformat_minor": 2
}
